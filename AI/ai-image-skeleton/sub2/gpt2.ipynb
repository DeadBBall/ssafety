{
  "cells": [
    {
      "cell_type": "markdown",
      "metadata": {
        "id": "1Iqy5hr9lYlh"
      },
      "source": [
        "##**SSAFY GPT-2 project**\n",
        "본 실습은 Sub PJT3에 앞서 GPT-2의 동작 방법의 이해를 돕기위한 실습입니다.\n",
        "GPT-2는 Open AI에서 2018년에 공개한 거대 자연어 처리 모델입니다. Transformer 디코더 구조를 사용하여 전체 모델을 구성하였고, 인터넷에서 얻은 대용량 데이터셋에 대해서 학습이 되어 다양한 자연어 처리에서 좋은 성능을 보이고 있습니다. Sub PJT3에서 GPT-2를 사용하여 이미지 캡셔닝을 구현할 예정이기 때문에 본 실습을 통해 GPT-2를 확실히 이해해야 합니다. 실습은 2가지 내용으로 구성되어 있습니다.\n",
        "- GPT-2 모델 및 tokenizer 실습\n",
        "- Special token 추가하는 실습"
      ]
    },
    {
      "cell_type": "markdown",
      "metadata": {
        "id": "Ci4yOyKBL_Cd"
      },
      "source": [
        "### **Transformer 패키지 설치 및 필요한 패키지 import**"
      ]
    },
    {
      "cell_type": "code",
      "execution_count": null,
      "metadata": {
        "colab": {
          "base_uri": "https://localhost:8080/"
        },
        "id": "VpHWOJoZlSt_",
        "outputId": "7cbf0a8b-cb69-45cc-c46f-5baed9f9f084",
        "vscode": {
          "languageId": "python"
        }
      },
      "outputs": [],
      "source": [
        "!pip install transformers"
      ]
    },
    {
      "cell_type": "code",
      "execution_count": null,
      "metadata": {
        "id": "TEWH4HvNp7Qm",
        "vscode": {
          "languageId": "python"
        }
      },
      "outputs": [],
      "source": [
        "from transformers import *\n",
        "from torch import nn\n",
        "from tqdm import tqdm\n",
        "\n",
        "import torch"
      ]
    },
    {
      "cell_type": "markdown",
      "metadata": {
        "id": "rzuznNCMp_g0"
      },
      "source": [
        "### **GPT-2 불러오기**"
      ]
    },
    {
      "cell_type": "code",
      "execution_count": null,
      "metadata": {
        "id": "s7lK48AMp8f7",
        "vscode": {
          "languageId": "python"
        }
      },
      "outputs": [],
      "source": [
        "gpt_name = 'gpt2'"
      ]
    },
    {
      "cell_type": "code",
      "execution_count": null,
      "metadata": {
        "colab": {
          "base_uri": "https://localhost:8080/",
          "height": 1000,
          "referenced_widgets": [
            "628576f83bdd4d58862075ec55e1693f",
            "4ed506f7e9d94b2395e32b1910096744",
            "5100e635561f4fa1859477ed2f93b352",
            "e61070aa44da42a4ad3f3126d03122f6",
            "768f6a55a92e4aaeb7f11d8d827fcf38",
            "9a133aa8117146bda3b9a51152717f2c",
            "6d8089410c5a4ad39c5890c7f1a4392c",
            "e534e20968fb47368ac22a390d80175e",
            "6649ad20f19f42829f73146542e5d00f",
            "e66d5cde714b425d9f8b962d5e4f86e5",
            "6086b8c20fd54c068f2b58dcf11d4d2e",
            "d221aa6c01d54972ae8b2be45d8f7158",
            "d43df5cc69b3480e960683d35ee81252",
            "28cb2358e5b04d329b9d3ee90cb082d1",
            "02358f9f44ab4693b8f21f19efbb50c9",
            "d13cf5fd29cc4e3cad8b22ce184b78a5",
            "d2c05698b7694ee18223e9b509ddb0c3",
            "d13266becef14c45babb2c7c16125077",
            "bc4f30247aa649c48460adc7d2ff0ea5",
            "f268454bda8c46c1a0352f7226526af5",
            "8e747b6725ec478f87eae47a41fcd8f7",
            "81da7162e424484a9a002db77013f385",
            "2a7c173462f6463f960b5ba031a77381",
            "09bc2bb42611432ba9d1668fc8112070",
            "cb28fbb486e148e5a82a3fb8f4cdd831",
            "3c640883d2644e47aa3b3769ba8d4876",
            "ff3189b6b613406a901705321b879c47",
            "fd7ca41cdfaf4e47b24d6c9275af8106",
            "c30d2ace6e284f759e32c9aee1100767",
            "4c47c8ae6b4f4fe1a098c416df0f0cc8",
            "4617152767894b4a8fc79d6ae25fc740",
            "fa2a6df3d81d45b3a6ce1e7fd3346b25",
            "4ba6f74351e246c583046b2d8d980c3b",
            "da274e530d61477a8f8b37dc8d2228a1",
            "9f5aff48e70f42f98a6c2098e8335e70",
            "6972083b9a284cc3832364d08737bac6",
            "b6100ac6a3444a749a52e725d07e1c80",
            "9c06e49960bf4840858ae5ef7269fd90",
            "f42dae05211f4853a0c63d0721f40b22",
            "c95088448bd447f7a39477d77150fed1",
            "80ea02c4108441dea0c64563de905994",
            "eea1ae94ddc441dc97c4f178865fd3ea",
            "4ae7cbd6d8d649c0a6584b45105ae4de",
            "8531e03248a44556a8829d4744cfc702"
          ]
        },
        "id": "y2731xAPqXZE",
        "outputId": "dfb198d6-ea90-4066-ba81-e5938f9c330f",
        "vscode": {
          "languageId": "python"
        }
      },
      "outputs": [],
      "source": [
        "# transformers 패키지로부터 GPT-2 모델을 불러옵니다\n",
        "config = GPT2Config.from_pretrained(gpt_name)\n",
        "tokenizer = GPT2Tokenizer.from_pretrained(gpt_name)\n",
        "model = GPT2Model.from_pretrained(gpt_name)"
      ]
    },
    {
      "cell_type": "code",
      "execution_count": null,
      "metadata": {
        "colab": {
          "base_uri": "https://localhost:8080/"
        },
        "id": "clTWxrdlqenD",
        "outputId": "72bc4b81-456f-444d-f2a3-d026bddafffb",
        "vscode": {
          "languageId": "python"
        }
      },
      "outputs": [],
      "source": [
        "# GPT-2를 구성하는 configuration을 확인합니다.\n",
        "# n_ctx : 최대 input 길이, max embedding position\n",
        "# n_embd : hidden size\n",
        "config"
      ]
    },
    {
      "cell_type": "code",
      "execution_count": null,
      "metadata": {
        "colab": {
          "base_uri": "https://localhost:8080/"
        },
        "id": "oJ8AL8Y7q2Ok",
        "outputId": "2bb6dd48-ca5d-4d5d-996d-27ade6742f02",
        "vscode": {
          "languageId": "python"
        }
      },
      "outputs": [],
      "source": [
        "# Tokenizer는 입력문장을 일정한 단위로 분할하는 역할을 합니다. \n",
        "# GPT-2는 transformer decoder로만 구성되어 있어 masked multi-head attention 수행합니다.\n",
        "# 즉, 왼쪽부터 하나씩 token을 생성하는 방식이기 때문에 padding 토큰은 따로 없습니다.\n",
        "\n",
        "tokenizer"
      ]
    },
    {
      "cell_type": "code",
      "execution_count": null,
      "metadata": {
        "colab": {
          "base_uri": "https://localhost:8080/"
        },
        "id": "jRIcb-Hkq5-z",
        "outputId": "f052fd82-23aa-4c64-e1d4-6d04d3f3d6f3",
        "vscode": {
          "languageId": "python"
        }
      },
      "outputs": [],
      "source": [
        "# GPT-2 모델의 구조를 출력해봅니다.\n",
        "# 각 GPT2Block은 transformer 구조로 되어 있는 것을 확인할 수 있습니다.\n",
        "model"
      ]
    },
    {
      "cell_type": "markdown",
      "metadata": {
        "id": "9AnjbqKeq_Ye"
      },
      "source": [
        "### **Tokenizer 사용**"
      ]
    },
    {
      "cell_type": "markdown",
      "metadata": {
        "id": "GvyWA7z2xgIw"
      },
      "source": [
        "- 앞서 설명한대로, tokenizer는 입력문장을 일정한 단위로 분할하는 역할을 합니다. "
      ]
    },
    {
      "cell_type": "markdown",
      "metadata": {
        "id": "35dP7fFmxgC7"
      },
      "source": []
    },
    {
      "cell_type": "code",
      "execution_count": null,
      "metadata": {
        "colab": {
          "base_uri": "https://localhost:8080/"
        },
        "id": "O8CXqKgsq6j7",
        "outputId": "6d911f24-66c8-4f9b-ac99-de5e270e6f08",
        "vscode": {
          "languageId": "python"
        }
      },
      "outputs": [],
      "source": [
        "# 아래 문장의 단어를 각각의 token으로 tokenize한 결과입니다.\n",
        "# tokenize한 뒤 vocab의 id형태로 출력되는 것을 확인할 수 있습니다.\n",
        "\n",
        "sentence = \"I want to go home.\"\n",
        "output = tokenizer(sentence)\n",
        "output"
      ]
    },
    {
      "cell_type": "code",
      "execution_count": null,
      "metadata": {
        "colab": {
          "base_uri": "https://localhost:8080/"
        },
        "id": "XuYaImB8rCfc",
        "outputId": "7b32f1e8-2d6e-4d33-e754-634964899740",
        "vscode": {
          "languageId": "python"
        }
      },
      "outputs": [],
      "source": [
        "# 위에처럼 index 형태가 아닌, 자연어 형태로 tokenize 결과를 출력합니다.\n",
        "# GPT-2 tokenizer는 단어 사이에 띄어쓰기도 하나의 char로 인식하도록 학습되어 있습니다.\n",
        "# Ġ표기 이외에 위의 cell의 sentence와 동일한 결과를 확인할 수 있습니다.\n",
        "# Ġ는 GPT-2 일종의 special한 표기입니다. 이는 띄어쓰기 표시를 의미합니다.\n",
        "\n",
        "tokenized = tokenizer.tokenize(sentence)\n",
        "tokenized"
      ]
    },
    {
      "cell_type": "code",
      "execution_count": null,
      "metadata": {
        "colab": {
          "base_uri": "https://localhost:8080/"
        },
        "id": "uDOKzjBRrIZr",
        "outputId": "eccd4c27-6790-49e2-d2af-ec48434c3aef",
        "vscode": {
          "languageId": "python"
        }
      },
      "outputs": [],
      "source": [
        "# Tokenizer에 저장되어 있는 vocab을 불러와서 출력해봅니다.\n",
        "# 표현 가능한 Vocab은 총 50257개 입니다.\n",
        "# 특수 문자들도 포함되어 있는 것을 확인할 수 있습니다.\n",
        "vocab = tokenizer.get_vocab()\n",
        "\n",
        "print(vocab)\n",
        "print(len(vocab))"
      ]
    },
    {
      "cell_type": "code",
      "execution_count": null,
      "metadata": {
        "colab": {
          "base_uri": "https://localhost:8080/"
        },
        "id": "y9AegCQErQ6k",
        "outputId": "aa4a29de-f07d-4725-f130-b642da9f858f",
        "vscode": {
          "languageId": "python"
        }
      },
      "outputs": [],
      "source": [
        "# vocab의 가장 마지막에 있는 token은 아래와 같고, id가 마지막을 가리키는 것을 확인할 수 있습니다.\n",
        "# 사용자가 start, end token 필요할때 해당 token을 사용할 수 있습니다.\n",
        "\n",
        "vocab['<|endoftext|>']"
      ]
    },
    {
      "cell_type": "code",
      "execution_count": null,
      "metadata": {
        "colab": {
          "base_uri": "https://localhost:8080/"
        },
        "id": "RaXPW89zrR3E",
        "outputId": "f411d816-e5f7-41ba-d2e2-350b77d048ed",
        "vscode": {
          "languageId": "python"
        }
      },
      "outputs": [],
      "source": [
        "# 이제 다시, 위에서 작성한 \"I want to go home\"이라는 문장을 tokenize를 거친 결과는\n",
        "# vocab 내의 token 순서로 표시된 것을 확인할 수 있습니다.\n",
        "\n",
        "token_ids = [vocab[token] for token in tokenized]\n",
        "print(token_ids)"
      ]
    },
    {
      "cell_type": "code",
      "execution_count": null,
      "metadata": {
        "colab": {
          "base_uri": "https://localhost:8080/"
        },
        "id": "DY26G6v1sM4k",
        "outputId": "8e3148a5-7e19-4f42-f6d3-c2a8154ad7b9",
        "vscode": {
          "languageId": "python"
        }
      },
      "outputs": [],
      "source": [
        "# tokenizer 내의 _convert_token_to_id() 함수로 token id를 추출할 수 있습니다.\n",
        "\n",
        "token_ids = [tokenizer._convert_token_to_id(token) for token in tokenized]\n",
        "print(token_ids)"
      ]
    },
    {
      "cell_type": "code",
      "execution_count": null,
      "metadata": {
        "colab": {
          "base_uri": "https://localhost:8080/"
        },
        "id": "XwXDAiV8sNxj",
        "outputId": "f24d3afc-5802-4892-d73a-3ae2ceb505a8",
        "vscode": {
          "languageId": "python"
        }
      },
      "outputs": [],
      "source": [
        "# tokenizer 내의 convert_token_to_ids() 함수를 사용하면, 바로 문장의 모든 token을 담음\n",
        "# tokenized를 입력하여 token id를 추출할 수 있습니다.\n",
        "\n",
        "token_ids = tokenizer.convert_tokens_to_ids(tokenized)\n",
        "print(token_ids)"
      ]
    },
    {
      "cell_type": "code",
      "execution_count": null,
      "metadata": {
        "colab": {
          "base_uri": "https://localhost:8080/"
        },
        "id": "aiAtF1eCsO2E",
        "outputId": "47d8a17d-3dae-4f8d-efd8-b9228192b24c",
        "vscode": {
          "languageId": "python"
        }
      },
      "outputs": [],
      "source": [
        "# tokenizer 내의 encode() 함수를 사용하면 입력 문장(string)으로 부터 \n",
        "# 바로 token id를 추출할 수 있습니다.\n",
        "\n",
        "token_ids = tokenizer.encode(sentence)\n",
        "print(token_ids)"
      ]
    },
    {
      "cell_type": "code",
      "execution_count": null,
      "metadata": {
        "colab": {
          "base_uri": "https://localhost:8080/"
        },
        "id": "Na7mh6ZIsPu2",
        "outputId": "ce6dadd0-18a6-4bfa-bdc7-3982a9dadc0e",
        "vscode": {
          "languageId": "python"
        }
      },
      "outputs": [],
      "source": [
        "# tokenizer 내의 convert_tokens_to_string() 함수를 사용하면 \n",
        "# tokenized 결과로 부터 자연어 형태의 원본 문장을 얻을 수 있습니다.\n",
        "\n",
        "sentence = tokenizer.convert_tokens_to_string(tokenized)\n",
        "print(sentence)"
      ]
    },
    {
      "cell_type": "code",
      "execution_count": null,
      "metadata": {
        "colab": {
          "base_uri": "https://localhost:8080/"
        },
        "id": "1s5uFW2SsRrt",
        "outputId": "24a6fe56-ab35-4ce4-9a40-b038740f0da0",
        "vscode": {
          "languageId": "python"
        }
      },
      "outputs": [],
      "source": [
        "# convert_ids_to_tokens()와 convert_tokens_to_string의 차이를 확인해 봅니다.\n",
        "\n",
        "tokens = tokenizer.convert_ids_to_tokens(token_ids)\n",
        "print(tokens)\n",
        "sentence = tokenizer.convert_tokens_to_string(tokens)\n",
        "print(sentence)"
      ]
    },
    {
      "cell_type": "markdown",
      "metadata": {
        "id": "RwyTD8ZvTtAr"
      },
      "source": [
        "### **데이터 전처리**"
      ]
    },
    {
      "cell_type": "markdown",
      "metadata": {
        "id": "w4DHsQ2fspXN"
      },
      "source": [
        "데이터를 전처리를 전처리 하는 방법에 대해서 실습해 봅니다. GPT-2에 batch 단위로 데이터를 넘겨줄 때 batch내의 모든 문장의 길이는 동일해야 합니다. 실제로 문장의 길이가 동일하지 않는 경우가 있기 때문에, 가장 긴 문장을 기준으로 나머지 문장들에 임의의 token을 넣어주어 길이가 동일하게 만듭니다.\n",
        "\n",
        "### Req. 3-1\t데이터 전처리하기: batch 형태로 만들기"
      ]
    },
    {
      "cell_type": "code",
      "execution_count": null,
      "metadata": {
        "id": "siU8NdHns6j7",
        "vscode": {
          "languageId": "python"
        }
      },
      "outputs": [],
      "source": [
        "data = [\n",
        "  \"I want to go home.\",\n",
        "  \"My dog's name is Max.\",\n",
        "  \"Natural Language Processing is my favorite research field.\",\n",
        "  \"Welcome. How can I help you?\",\n",
        "  \"Shoot for the moon. Even if you miss, you'll land among the stars.\"\n",
        "]"
      ]
    },
    {
      "cell_type": "code",
      "execution_count": null,
      "metadata": {
        "colab": {
          "base_uri": "https://localhost:8080/"
        },
        "id": "5Kl3RnB_s6z1",
        "outputId": "9243f206-0df1-4cb0-9694-5dbd75c00d2a",
        "vscode": {
          "languageId": "python"
        }
      },
      "outputs": [],
      "source": [
        "# 전체 길이 맞추기 위해 max_len 구하고\n",
        "# 각각의 문장을 encode하고 max_len 구한다\n",
        "\n",
        "# GPT-2는 별도 pad token 없고, 어차피 무시할 수 있기 때문에\n",
        "# 아무 token이나 넣어도 된다\n",
        "# 여기서는 0번으로 padding\n",
        "\n",
        "max_len = 0\n",
        "batch = []\n",
        "\n",
        "################################################################################\n",
        "# TODO: 데이터를 batch 형태로 만들기.                                                #\n",
        "################################################################################\n",
        "# *****START OF YOUR CODE (DO NOT DELETE/MODIFY THIS LINE)*****\n",
        "# 1) data를 token_id 형태로 batch 리스트에 append 합니다.\n",
        "# 2) batch 내에서 가장 긴 문장의 max_len를 구합니다.\n",
        "# 3) batch 내의 모든 데이터 길이를 동일하게 만들기 위해서 max len에 도달할 때 까지\n",
        "# 임의의 token으로 채워줍니다. 여기서는 0 token으로 채워줍니다.\n",
        "\n",
        "# *****END OF YOUR CODE (DO NOT DELETE/MODIFY THIS LINE)*****\n",
        "################################################################################\n",
        "#                                 END OF YOUR CODE                             #\n",
        "################################################################################"
      ]
    },
    {
      "cell_type": "code",
      "execution_count": null,
      "metadata": {
        "colab": {
          "base_uri": "https://localhost:8080/"
        },
        "id": "nLqu2nDDx203",
        "outputId": "59e2439d-3be5-438b-f526-15335ae0b65f",
        "vscode": {
          "languageId": "python"
        }
      },
      "outputs": [],
      "source": [
        "batch = torch.LongTensor(batch)\n",
        "\n",
        "print(batch)\n",
        "print(batch.shape)"
      ]
    },
    {
      "cell_type": "markdown",
      "metadata": {
        "id": "YBca6p5dab2s"
      },
      "source": [
        "### Req. 3-2\t데이터 전처리하기: batch 내 불필요한 부분 masking"
      ]
    },
    {
      "cell_type": "code",
      "execution_count": null,
      "metadata": {
        "colab": {
          "base_uri": "https://localhost:8080/"
        },
        "id": "w2rNH2htx3zs",
        "outputId": "73a83ab5-85de-47cc-dc70-cbd6d59790da",
        "vscode": {
          "languageId": "python"
        }
      },
      "outputs": [],
      "source": [
        "################################################################################\n",
        "# TODO: batch 내 불필요한 부분 masking.                                            #\n",
        "################################################################################\n",
        "# *****START OF YOUR CODE (DO NOT DELETE/MODIFY THIS LINE)*****\n",
        "# 1) 길이를 맞춰주기 위해서 임의로 token을 생성한 부분은 사실 불필요한 부분입니다.\n",
        "# 2) 추후에 해당 부분을 무시할 수 있도록 masking할수 있는 변수를 만듭니다.\n",
        "# 3) 문장에 해당하는 부분은 1, 무시할 부분은 0으로 채워진 tensor를 생성하고\n",
        "# 이는 batch와 tensor shape이 동일해야 합니다.\n",
        "\n",
        "# *****END OF YOUR CODE (DO NOT DELETE/MODIFY THIS LINE)*****\n",
        "################################################################################\n",
        "#                                 END OF YOUR CODE                             #\n",
        "################################################################################\n",
        "\n",
        "print(batch_mask)\n",
        "print(batch.shape)"
      ]
    },
    {
      "cell_type": "markdown",
      "metadata": {
        "id": "F6FcXgIRdPz9"
      },
      "source": [
        "### **GPT-2 사용 및 응용**"
      ]
    },
    {
      "cell_type": "code",
      "execution_count": null,
      "metadata": {
        "colab": {
          "base_uri": "https://localhost:8080/"
        },
        "id": "Y1JiMhdMx90N",
        "outputId": "5f1451f9-e49d-44dd-9d8c-678194e3758b",
        "vscode": {
          "languageId": "python"
        }
      },
      "outputs": [],
      "source": [
        "# 앞서 생성한 batch와 batch_mask를 모델에 넣어주면 아래와 같은 결과를 얻을 수 있습니다.\n",
        "\n",
        "outputs = model(input_ids=batch, attention_mask=batch_mask)\n",
        "outputs"
      ]
    },
    {
      "cell_type": "code",
      "execution_count": null,
      "metadata": {
        "colab": {
          "base_uri": "https://localhost:8080/"
        },
        "id": "W51xZRbuylbW",
        "outputId": "1e83a067-563b-4458-9d95-4584ad8e9536",
        "vscode": {
          "languageId": "python"
        }
      },
      "outputs": [],
      "source": [
        "# 앞선 결과는 GPT-2의 모든 layer의 attention 거치고 나온 최종 결과입니다.\n",
        "# Batch 내에서 하나를 선정하여 tensor shape을 확인합니다.\n",
        "\n",
        "# B: batch size, L: max length, d_h: hidden size\n",
        "last_hidden_states = outputs[0]  # (B, L, d_h)\n",
        "\n",
        "print(last_hidden_states.shape)"
      ]
    },
    {
      "cell_type": "markdown",
      "metadata": {
        "id": "dP_C65EKzMVN"
      },
      "source": [
        "- GPT-2는 next word prediction이라고 하는, 다음 단어를 예측하는 방식으로 기학습된 자연어 처리 모델입니다.\n",
        "- 실제로 현재 token 다음에 나오는 token이 무엇인지 예측하고 싶다면 linear layer를 추가하여 확인할 수 있습니다.\n",
        "- 아래와 같이 hidden_size를 입력받아, vocab size 크기의 dimension을 출력하는 fully-connected layer를 사용하여 다음 단어를 예측할 수 있습니다.\n"
      ]
    },
    {
      "cell_type": "code",
      "execution_count": null,
      "metadata": {
        "id": "uRmTXNMsyztw",
        "vscode": {
          "languageId": "python"
        }
      },
      "outputs": [],
      "source": [
        "lm_linear = nn.Linear(config.hidden_size, config.vocab_size)"
      ]
    },
    {
      "cell_type": "code",
      "execution_count": null,
      "metadata": {
        "colab": {
          "base_uri": "https://localhost:8080/"
        },
        "id": "LnenqteGzoFW",
        "outputId": "d222266b-e651-464e-d6a2-fb9081d22572",
        "vscode": {
          "languageId": "python"
        }
      },
      "outputs": [],
      "source": [
        "# vocab_size의 크기로 출력하는 이유는, 다음으로 등장할 단어가 무엇인지\n",
        "# 모든 단어에 대해서 확률을 구하고 싶기 때문입니다.\n",
        "# 실제로는 vocab size로 출력된 값 중 가장 큰 값을 뽑아서 예측할 수 있습니다.\n",
        "# V: vocab size\n",
        "\n",
        "lm_output = lm_linear(last_hidden_states)  # (B, L, V)\n",
        "\n",
        "print(lm_output)\n",
        "print(lm_output.shape)"
      ]
    },
    {
      "cell_type": "markdown",
      "metadata": {
        "id": "1NYfcEqMz3cV"
      },
      "source": [
        "GPT-2 는 위의 예시와 같이 다양한 head를 제공해줍니다. (https://huggingface.co/transformers/model_doc/gpt2.html)  \n",
        "위의 Language Modeling을 동일하게 수행할 수 있는 모델은 아래와 같습니다."
      ]
    },
    {
      "cell_type": "code",
      "execution_count": null,
      "metadata": {
        "colab": {
          "base_uri": "https://localhost:8080/"
        },
        "id": "Npnxu9Uhz0CM",
        "outputId": "c796a619-3863-40a1-a1e3-814496c68ced",
        "vscode": {
          "languageId": "python"
        }
      },
      "outputs": [],
      "source": [
        "lm_model = GPT2LMHeadModel.from_pretrained(gpt_name)"
      ]
    },
    {
      "cell_type": "code",
      "execution_count": null,
      "metadata": {
        "colab": {
          "base_uri": "https://localhost:8080/"
        },
        "id": "WwWe5S3N0DtI",
        "outputId": "5601f0b5-b492-4545-9688-a8ea99e71a82",
        "vscode": {
          "languageId": "python"
        }
      },
      "outputs": [],
      "source": [
        "# 가장 마지막 lm_head 레이어에 다음 단어를 예측하는 레이어까지 포함되어 있는 것을 확인할 수 있습니다.\n",
        "lm_model"
      ]
    },
    {
      "cell_type": "markdown",
      "metadata": {
        "id": "cZ9cfGlw0oxZ"
      },
      "source": [
        "GPT2LMHeadModel은 `input_ids`와 `labels`를 함께 줄 경우 학습 중이라고 인식하고 자동으로 cross entropy loss까지 계산합니다.  \n",
        "`labels`가 주어지지 않을 경우엔 기존과 동일하게 결과만 출력합니다."
      ]
    },
    {
      "cell_type": "code",
      "execution_count": null,
      "metadata": {
        "colab": {
          "base_uri": "https://localhost:8080/"
        },
        "id": "jZWKIdQ40F4-",
        "outputId": "3556d680-1690-45a0-d242-11f3bd401a88",
        "vscode": {
          "languageId": "python"
        }
      },
      "outputs": [],
      "source": [
        "# input_ids, labels에 같은 값 batch를 넣습니다.\n",
        "# batch를 한 번 자동으로 shift해서 모델이 next word prediction을 얼마나 잘 하고있는지 \n",
        "# cross-entropy loss까지 계산해봅니다.\n",
        "\n",
        "outputs = lm_model(input_ids=batch, attention_mask=batch_mask, labels=batch)\n",
        "outputs"
      ]
    },
    {
      "cell_type": "code",
      "execution_count": null,
      "metadata": {
        "colab": {
          "base_uri": "https://localhost:8080/"
        },
        "id": "lQswtcL809bW",
        "outputId": "5adc9331-f2ec-4150-e599-ae6125544d78",
        "vscode": {
          "languageId": "python"
        }
      },
      "outputs": [],
      "source": [
        "# 위 출력의 첫번째 index에는 loss 값을 담고 있습니다.\n",
        "# 학습을 원할 경우 아래의 갚은 backpropagation 해서 사용합니다.\n",
        "\n",
        "loss = outputs[0]"
      ]
    },
    {
      "cell_type": "code",
      "execution_count": null,
      "metadata": {
        "colab": {
          "base_uri": "https://localhost:8080/"
        },
        "id": "32sbDRju1Acn",
        "outputId": "5a244c74-6688-4531-c516-ce4059b0b133",
        "vscode": {
          "languageId": "python"
        }
      },
      "outputs": [],
      "source": [
        "# 위 출력의 두번째 index에는 logit 값을 담고 있습니다.\n",
        "# logit은 모델으 마지막 레이어를 거쳐서 torch.Size([5, 18, 50257]) shape을 갖습니다.\n",
        "# vocab size: 50257\n",
        "\n",
        "logits = outputs[1]\n",
        "\n",
        "print(logits)\n",
        "print(logits.shape)"
      ]
    },
    {
      "cell_type": "markdown",
      "metadata": {
        "id": "j8cKyL4E1ICb"
      },
      "source": [
        "### **Special token 추가하기**"
      ]
    },
    {
      "cell_type": "markdown",
      "metadata": {
        "id": "FaiPnWRc1NlB"
      },
      "source": [
        "경우에 따라선 별도의 special token을 추가하고 싶을 수 있습니다. \n",
        "- 예를 들어 챗봇을 만들때 각 화자 정보를 나타내는 special token 필요\n",
        "- Begining of sentence (BOS), End of sentence (EOS)를 하나로 퉁치지 않고 구분하고 싶은 경우"
      ]
    },
    {
      "cell_type": "markdown",
      "metadata": {
        "id": "RozQTd890_s_"
      },
      "source": []
    },
    {
      "cell_type": "code",
      "execution_count": null,
      "metadata": {
        "colab": {
          "base_uri": "https://localhost:8080/"
        },
        "id": "U2qPe26Y1EqR",
        "outputId": "81304dae-19a1-4891-8027-7369687a390c",
        "vscode": {
          "languageId": "python"
        }
      },
      "outputs": [],
      "source": [
        "print(vocab)\n",
        "print(len(vocab))"
      ]
    },
    {
      "cell_type": "code",
      "execution_count": null,
      "metadata": {
        "id": "KCe9-rrM1ndK",
        "vscode": {
          "languageId": "python"
        }
      },
      "outputs": [],
      "source": [
        "# dictionary - tokenizer 한테 추가할 special token 정보 제공하는 형식\n",
        "\n",
        "special_tokens = {\n",
        "    'bos_token': '[BOS]',\n",
        "    'eos_token': '[EOS]',\n",
        "    'pad_token': '[PAD]',\n",
        "    'additional_special_tokens': ['[SP1]', '[SP2]']\n",
        "}"
      ]
    },
    {
      "cell_type": "code",
      "execution_count": null,
      "metadata": {
        "colab": {
          "base_uri": "https://localhost:8080/"
        },
        "id": "gj4BkgCP2E1h",
        "outputId": "43648421-6d1a-4295-f66a-2482b2be65d7",
        "vscode": {
          "languageId": "python"
        }
      },
      "outputs": [],
      "source": [
        "# tokenizer 내 add_special_tokens 함수로 새로우 token을 추가합니다.\n",
        "# 자동으로 tokenizer와 그 안의 vocab에 special token 등록되어 새롭게 등장한 token들의 수가 반환됩니다.\n",
        "\n",
        "num_new_tokens = tokenizer.add_special_tokens(special_tokens)\n",
        "print(num_new_tokens)"
      ]
    },
    {
      "cell_type": "code",
      "execution_count": null,
      "metadata": {
        "colab": {
          "base_uri": "https://localhost:8080/"
        },
        "id": "aa3jdBTy2Ji3",
        "outputId": "cefe1b48-766a-4d79-efa5-acc18a24a289",
        "vscode": {
          "languageId": "python"
        }
      },
      "outputs": [],
      "source": [
        "# 50257 -> 50262, 5개 증가\n",
        "\n",
        "vocab = tokenizer.get_vocab()\n",
        "print(vocab)\n",
        "print(len(vocab))"
      ]
    },
    {
      "cell_type": "code",
      "execution_count": null,
      "metadata": {
        "colab": {
          "base_uri": "https://localhost:8080/"
        },
        "id": "4jyoMGkE4BUJ",
        "outputId": "e028bff6-eac5-41b0-affc-cbd8efc3f805",
        "vscode": {
          "languageId": "python"
        }
      },
      "outputs": [],
      "source": [
        "tokenizer"
      ]
    },
    {
      "cell_type": "markdown",
      "metadata": {
        "id": "w_CqT4DT2OcY"
      },
      "source": [
        "현재 vocab과 tokenizer만 바뀐 상황이고, 모델은 이전의 vocab size와 embedding row를 가집니다. 따라서 모델의 embedding size도 바뀐 vocab과 tokenizer에 맞게 수정해주어야 합니다.\n"
      ]
    },
    {
      "cell_type": "code",
      "execution_count": null,
      "metadata": {
        "colab": {
          "base_uri": "https://localhost:8080/"
        },
        "id": "hX7Yaisa2QJK",
        "outputId": "4600e78b-6c0e-4f7e-df53-2583927679d4",
        "vscode": {
          "languageId": "python"
        }
      },
      "outputs": [],
      "source": [
        "# resize_token_embeddings\n",
        "# 자체적으로 model 내에서 embedding layer 조절해준다\n",
        "\n",
        "model.resize_token_embeddings(len(vocab))"
      ]
    },
    {
      "cell_type": "code",
      "execution_count": null,
      "metadata": {
        "colab": {
          "base_uri": "https://localhost:8080/"
        },
        "id": "dzcrf-y52t8C",
        "outputId": "e0516ab7-ca14-43d3-d763-2c7ad1765427",
        "vscode": {
          "languageId": "python"
        }
      },
      "outputs": [],
      "source": [
        "# Embedding의 사이즈가 바뀐것을 확인할 수 있습니다.\n",
        "# 그러나 아직 바뀐 다음에 학습이 안되었기 때문에 추후 finetuning 단계가 필요합니다.\n",
        "model"
      ]
    }
  ],
  "metadata": {
    "accelerator": "GPU",
    "colab": {
      "collapsed_sections": [],
      "name": "SSAFY_SubPJT2_GPT2_실습.ipynb",
      "provenance": []
    },
    "gpuClass": "standard",
    "kernelspec": {
      "display_name": "Python 3",
      "name": "python3"
    },
    "widgets": {
      "application/vnd.jupyter.widget-state+json": {
        "02358f9f44ab4693b8f21f19efbb50c9": {
          "model_module": "@jupyter-widgets/controls",
          "model_module_version": "1.5.0",
          "model_name": "HTMLModel",
          "state": {
            "_dom_classes": [],
            "_model_module": "@jupyter-widgets/controls",
            "_model_module_version": "1.5.0",
            "_model_name": "HTMLModel",
            "_view_count": null,
            "_view_module": "@jupyter-widgets/controls",
            "_view_module_version": "1.5.0",
            "_view_name": "HTMLView",
            "description": "",
            "description_tooltip": null,
            "layout": "IPY_MODEL_8e747b6725ec478f87eae47a41fcd8f7",
            "placeholder": "​",
            "style": "IPY_MODEL_81da7162e424484a9a002db77013f385",
            "value": " 0.99M/0.99M [00:00&lt;00:00, 1.36MB/s]"
          }
        },
        "09bc2bb42611432ba9d1668fc8112070": {
          "model_module": "@jupyter-widgets/controls",
          "model_module_version": "1.5.0",
          "model_name": "HTMLModel",
          "state": {
            "_dom_classes": [],
            "_model_module": "@jupyter-widgets/controls",
            "_model_module_version": "1.5.0",
            "_model_name": "HTMLModel",
            "_view_count": null,
            "_view_module": "@jupyter-widgets/controls",
            "_view_module_version": "1.5.0",
            "_view_name": "HTMLView",
            "description": "",
            "description_tooltip": null,
            "layout": "IPY_MODEL_fd7ca41cdfaf4e47b24d6c9275af8106",
            "placeholder": "​",
            "style": "IPY_MODEL_c30d2ace6e284f759e32c9aee1100767",
            "value": "Downloading merges.txt: 100%"
          }
        },
        "28cb2358e5b04d329b9d3ee90cb082d1": {
          "model_module": "@jupyter-widgets/controls",
          "model_module_version": "1.5.0",
          "model_name": "FloatProgressModel",
          "state": {
            "_dom_classes": [],
            "_model_module": "@jupyter-widgets/controls",
            "_model_module_version": "1.5.0",
            "_model_name": "FloatProgressModel",
            "_view_count": null,
            "_view_module": "@jupyter-widgets/controls",
            "_view_module_version": "1.5.0",
            "_view_name": "ProgressView",
            "bar_style": "success",
            "description": "",
            "description_tooltip": null,
            "layout": "IPY_MODEL_bc4f30247aa649c48460adc7d2ff0ea5",
            "max": 1042301,
            "min": 0,
            "orientation": "horizontal",
            "style": "IPY_MODEL_f268454bda8c46c1a0352f7226526af5",
            "value": 1042301
          }
        },
        "2a7c173462f6463f960b5ba031a77381": {
          "model_module": "@jupyter-widgets/controls",
          "model_module_version": "1.5.0",
          "model_name": "HBoxModel",
          "state": {
            "_dom_classes": [],
            "_model_module": "@jupyter-widgets/controls",
            "_model_module_version": "1.5.0",
            "_model_name": "HBoxModel",
            "_view_count": null,
            "_view_module": "@jupyter-widgets/controls",
            "_view_module_version": "1.5.0",
            "_view_name": "HBoxView",
            "box_style": "",
            "children": [
              "IPY_MODEL_09bc2bb42611432ba9d1668fc8112070",
              "IPY_MODEL_cb28fbb486e148e5a82a3fb8f4cdd831",
              "IPY_MODEL_3c640883d2644e47aa3b3769ba8d4876"
            ],
            "layout": "IPY_MODEL_ff3189b6b613406a901705321b879c47"
          }
        },
        "3c640883d2644e47aa3b3769ba8d4876": {
          "model_module": "@jupyter-widgets/controls",
          "model_module_version": "1.5.0",
          "model_name": "HTMLModel",
          "state": {
            "_dom_classes": [],
            "_model_module": "@jupyter-widgets/controls",
            "_model_module_version": "1.5.0",
            "_model_name": "HTMLModel",
            "_view_count": null,
            "_view_module": "@jupyter-widgets/controls",
            "_view_module_version": "1.5.0",
            "_view_name": "HTMLView",
            "description": "",
            "description_tooltip": null,
            "layout": "IPY_MODEL_fa2a6df3d81d45b3a6ce1e7fd3346b25",
            "placeholder": "​",
            "style": "IPY_MODEL_4ba6f74351e246c583046b2d8d980c3b",
            "value": " 446k/446k [00:00&lt;00:00, 920kB/s]"
          }
        },
        "4617152767894b4a8fc79d6ae25fc740": {
          "model_module": "@jupyter-widgets/controls",
          "model_module_version": "1.5.0",
          "model_name": "ProgressStyleModel",
          "state": {
            "_model_module": "@jupyter-widgets/controls",
            "_model_module_version": "1.5.0",
            "_model_name": "ProgressStyleModel",
            "_view_count": null,
            "_view_module": "@jupyter-widgets/base",
            "_view_module_version": "1.2.0",
            "_view_name": "StyleView",
            "bar_color": null,
            "description_width": ""
          }
        },
        "4ae7cbd6d8d649c0a6584b45105ae4de": {
          "model_module": "@jupyter-widgets/base",
          "model_module_version": "1.2.0",
          "model_name": "LayoutModel",
          "state": {
            "_model_module": "@jupyter-widgets/base",
            "_model_module_version": "1.2.0",
            "_model_name": "LayoutModel",
            "_view_count": null,
            "_view_module": "@jupyter-widgets/base",
            "_view_module_version": "1.2.0",
            "_view_name": "LayoutView",
            "align_content": null,
            "align_items": null,
            "align_self": null,
            "border": null,
            "bottom": null,
            "display": null,
            "flex": null,
            "flex_flow": null,
            "grid_area": null,
            "grid_auto_columns": null,
            "grid_auto_flow": null,
            "grid_auto_rows": null,
            "grid_column": null,
            "grid_gap": null,
            "grid_row": null,
            "grid_template_areas": null,
            "grid_template_columns": null,
            "grid_template_rows": null,
            "height": null,
            "justify_content": null,
            "justify_items": null,
            "left": null,
            "margin": null,
            "max_height": null,
            "max_width": null,
            "min_height": null,
            "min_width": null,
            "object_fit": null,
            "object_position": null,
            "order": null,
            "overflow": null,
            "overflow_x": null,
            "overflow_y": null,
            "padding": null,
            "right": null,
            "top": null,
            "visibility": null,
            "width": null
          }
        },
        "4ba6f74351e246c583046b2d8d980c3b": {
          "model_module": "@jupyter-widgets/controls",
          "model_module_version": "1.5.0",
          "model_name": "DescriptionStyleModel",
          "state": {
            "_model_module": "@jupyter-widgets/controls",
            "_model_module_version": "1.5.0",
            "_model_name": "DescriptionStyleModel",
            "_view_count": null,
            "_view_module": "@jupyter-widgets/base",
            "_view_module_version": "1.2.0",
            "_view_name": "StyleView",
            "description_width": ""
          }
        },
        "4c47c8ae6b4f4fe1a098c416df0f0cc8": {
          "model_module": "@jupyter-widgets/base",
          "model_module_version": "1.2.0",
          "model_name": "LayoutModel",
          "state": {
            "_model_module": "@jupyter-widgets/base",
            "_model_module_version": "1.2.0",
            "_model_name": "LayoutModel",
            "_view_count": null,
            "_view_module": "@jupyter-widgets/base",
            "_view_module_version": "1.2.0",
            "_view_name": "LayoutView",
            "align_content": null,
            "align_items": null,
            "align_self": null,
            "border": null,
            "bottom": null,
            "display": null,
            "flex": null,
            "flex_flow": null,
            "grid_area": null,
            "grid_auto_columns": null,
            "grid_auto_flow": null,
            "grid_auto_rows": null,
            "grid_column": null,
            "grid_gap": null,
            "grid_row": null,
            "grid_template_areas": null,
            "grid_template_columns": null,
            "grid_template_rows": null,
            "height": null,
            "justify_content": null,
            "justify_items": null,
            "left": null,
            "margin": null,
            "max_height": null,
            "max_width": null,
            "min_height": null,
            "min_width": null,
            "object_fit": null,
            "object_position": null,
            "order": null,
            "overflow": null,
            "overflow_x": null,
            "overflow_y": null,
            "padding": null,
            "right": null,
            "top": null,
            "visibility": null,
            "width": null
          }
        },
        "4ed506f7e9d94b2395e32b1910096744": {
          "model_module": "@jupyter-widgets/controls",
          "model_module_version": "1.5.0",
          "model_name": "HTMLModel",
          "state": {
            "_dom_classes": [],
            "_model_module": "@jupyter-widgets/controls",
            "_model_module_version": "1.5.0",
            "_model_name": "HTMLModel",
            "_view_count": null,
            "_view_module": "@jupyter-widgets/controls",
            "_view_module_version": "1.5.0",
            "_view_name": "HTMLView",
            "description": "",
            "description_tooltip": null,
            "layout": "IPY_MODEL_9a133aa8117146bda3b9a51152717f2c",
            "placeholder": "​",
            "style": "IPY_MODEL_6d8089410c5a4ad39c5890c7f1a4392c",
            "value": "Downloading config.json: 100%"
          }
        },
        "5100e635561f4fa1859477ed2f93b352": {
          "model_module": "@jupyter-widgets/controls",
          "model_module_version": "1.5.0",
          "model_name": "FloatProgressModel",
          "state": {
            "_dom_classes": [],
            "_model_module": "@jupyter-widgets/controls",
            "_model_module_version": "1.5.0",
            "_model_name": "FloatProgressModel",
            "_view_count": null,
            "_view_module": "@jupyter-widgets/controls",
            "_view_module_version": "1.5.0",
            "_view_name": "ProgressView",
            "bar_style": "success",
            "description": "",
            "description_tooltip": null,
            "layout": "IPY_MODEL_e534e20968fb47368ac22a390d80175e",
            "max": 665,
            "min": 0,
            "orientation": "horizontal",
            "style": "IPY_MODEL_6649ad20f19f42829f73146542e5d00f",
            "value": 665
          }
        },
        "6086b8c20fd54c068f2b58dcf11d4d2e": {
          "model_module": "@jupyter-widgets/controls",
          "model_module_version": "1.5.0",
          "model_name": "DescriptionStyleModel",
          "state": {
            "_model_module": "@jupyter-widgets/controls",
            "_model_module_version": "1.5.0",
            "_model_name": "DescriptionStyleModel",
            "_view_count": null,
            "_view_module": "@jupyter-widgets/base",
            "_view_module_version": "1.2.0",
            "_view_name": "StyleView",
            "description_width": ""
          }
        },
        "628576f83bdd4d58862075ec55e1693f": {
          "model_module": "@jupyter-widgets/controls",
          "model_module_version": "1.5.0",
          "model_name": "HBoxModel",
          "state": {
            "_dom_classes": [],
            "_model_module": "@jupyter-widgets/controls",
            "_model_module_version": "1.5.0",
            "_model_name": "HBoxModel",
            "_view_count": null,
            "_view_module": "@jupyter-widgets/controls",
            "_view_module_version": "1.5.0",
            "_view_name": "HBoxView",
            "box_style": "",
            "children": [
              "IPY_MODEL_4ed506f7e9d94b2395e32b1910096744",
              "IPY_MODEL_5100e635561f4fa1859477ed2f93b352",
              "IPY_MODEL_e61070aa44da42a4ad3f3126d03122f6"
            ],
            "layout": "IPY_MODEL_768f6a55a92e4aaeb7f11d8d827fcf38"
          }
        },
        "6649ad20f19f42829f73146542e5d00f": {
          "model_module": "@jupyter-widgets/controls",
          "model_module_version": "1.5.0",
          "model_name": "ProgressStyleModel",
          "state": {
            "_model_module": "@jupyter-widgets/controls",
            "_model_module_version": "1.5.0",
            "_model_name": "ProgressStyleModel",
            "_view_count": null,
            "_view_module": "@jupyter-widgets/base",
            "_view_module_version": "1.2.0",
            "_view_name": "StyleView",
            "bar_color": null,
            "description_width": ""
          }
        },
        "6972083b9a284cc3832364d08737bac6": {
          "model_module": "@jupyter-widgets/controls",
          "model_module_version": "1.5.0",
          "model_name": "FloatProgressModel",
          "state": {
            "_dom_classes": [],
            "_model_module": "@jupyter-widgets/controls",
            "_model_module_version": "1.5.0",
            "_model_name": "FloatProgressModel",
            "_view_count": null,
            "_view_module": "@jupyter-widgets/controls",
            "_view_module_version": "1.5.0",
            "_view_name": "ProgressView",
            "bar_style": "success",
            "description": "",
            "description_tooltip": null,
            "layout": "IPY_MODEL_80ea02c4108441dea0c64563de905994",
            "max": 548118077,
            "min": 0,
            "orientation": "horizontal",
            "style": "IPY_MODEL_eea1ae94ddc441dc97c4f178865fd3ea",
            "value": 548118077
          }
        },
        "6d8089410c5a4ad39c5890c7f1a4392c": {
          "model_module": "@jupyter-widgets/controls",
          "model_module_version": "1.5.0",
          "model_name": "DescriptionStyleModel",
          "state": {
            "_model_module": "@jupyter-widgets/controls",
            "_model_module_version": "1.5.0",
            "_model_name": "DescriptionStyleModel",
            "_view_count": null,
            "_view_module": "@jupyter-widgets/base",
            "_view_module_version": "1.2.0",
            "_view_name": "StyleView",
            "description_width": ""
          }
        },
        "768f6a55a92e4aaeb7f11d8d827fcf38": {
          "model_module": "@jupyter-widgets/base",
          "model_module_version": "1.2.0",
          "model_name": "LayoutModel",
          "state": {
            "_model_module": "@jupyter-widgets/base",
            "_model_module_version": "1.2.0",
            "_model_name": "LayoutModel",
            "_view_count": null,
            "_view_module": "@jupyter-widgets/base",
            "_view_module_version": "1.2.0",
            "_view_name": "LayoutView",
            "align_content": null,
            "align_items": null,
            "align_self": null,
            "border": null,
            "bottom": null,
            "display": null,
            "flex": null,
            "flex_flow": null,
            "grid_area": null,
            "grid_auto_columns": null,
            "grid_auto_flow": null,
            "grid_auto_rows": null,
            "grid_column": null,
            "grid_gap": null,
            "grid_row": null,
            "grid_template_areas": null,
            "grid_template_columns": null,
            "grid_template_rows": null,
            "height": null,
            "justify_content": null,
            "justify_items": null,
            "left": null,
            "margin": null,
            "max_height": null,
            "max_width": null,
            "min_height": null,
            "min_width": null,
            "object_fit": null,
            "object_position": null,
            "order": null,
            "overflow": null,
            "overflow_x": null,
            "overflow_y": null,
            "padding": null,
            "right": null,
            "top": null,
            "visibility": null,
            "width": null
          }
        },
        "80ea02c4108441dea0c64563de905994": {
          "model_module": "@jupyter-widgets/base",
          "model_module_version": "1.2.0",
          "model_name": "LayoutModel",
          "state": {
            "_model_module": "@jupyter-widgets/base",
            "_model_module_version": "1.2.0",
            "_model_name": "LayoutModel",
            "_view_count": null,
            "_view_module": "@jupyter-widgets/base",
            "_view_module_version": "1.2.0",
            "_view_name": "LayoutView",
            "align_content": null,
            "align_items": null,
            "align_self": null,
            "border": null,
            "bottom": null,
            "display": null,
            "flex": null,
            "flex_flow": null,
            "grid_area": null,
            "grid_auto_columns": null,
            "grid_auto_flow": null,
            "grid_auto_rows": null,
            "grid_column": null,
            "grid_gap": null,
            "grid_row": null,
            "grid_template_areas": null,
            "grid_template_columns": null,
            "grid_template_rows": null,
            "height": null,
            "justify_content": null,
            "justify_items": null,
            "left": null,
            "margin": null,
            "max_height": null,
            "max_width": null,
            "min_height": null,
            "min_width": null,
            "object_fit": null,
            "object_position": null,
            "order": null,
            "overflow": null,
            "overflow_x": null,
            "overflow_y": null,
            "padding": null,
            "right": null,
            "top": null,
            "visibility": null,
            "width": null
          }
        },
        "81da7162e424484a9a002db77013f385": {
          "model_module": "@jupyter-widgets/controls",
          "model_module_version": "1.5.0",
          "model_name": "DescriptionStyleModel",
          "state": {
            "_model_module": "@jupyter-widgets/controls",
            "_model_module_version": "1.5.0",
            "_model_name": "DescriptionStyleModel",
            "_view_count": null,
            "_view_module": "@jupyter-widgets/base",
            "_view_module_version": "1.2.0",
            "_view_name": "StyleView",
            "description_width": ""
          }
        },
        "8531e03248a44556a8829d4744cfc702": {
          "model_module": "@jupyter-widgets/controls",
          "model_module_version": "1.5.0",
          "model_name": "DescriptionStyleModel",
          "state": {
            "_model_module": "@jupyter-widgets/controls",
            "_model_module_version": "1.5.0",
            "_model_name": "DescriptionStyleModel",
            "_view_count": null,
            "_view_module": "@jupyter-widgets/base",
            "_view_module_version": "1.2.0",
            "_view_name": "StyleView",
            "description_width": ""
          }
        },
        "8e747b6725ec478f87eae47a41fcd8f7": {
          "model_module": "@jupyter-widgets/base",
          "model_module_version": "1.2.0",
          "model_name": "LayoutModel",
          "state": {
            "_model_module": "@jupyter-widgets/base",
            "_model_module_version": "1.2.0",
            "_model_name": "LayoutModel",
            "_view_count": null,
            "_view_module": "@jupyter-widgets/base",
            "_view_module_version": "1.2.0",
            "_view_name": "LayoutView",
            "align_content": null,
            "align_items": null,
            "align_self": null,
            "border": null,
            "bottom": null,
            "display": null,
            "flex": null,
            "flex_flow": null,
            "grid_area": null,
            "grid_auto_columns": null,
            "grid_auto_flow": null,
            "grid_auto_rows": null,
            "grid_column": null,
            "grid_gap": null,
            "grid_row": null,
            "grid_template_areas": null,
            "grid_template_columns": null,
            "grid_template_rows": null,
            "height": null,
            "justify_content": null,
            "justify_items": null,
            "left": null,
            "margin": null,
            "max_height": null,
            "max_width": null,
            "min_height": null,
            "min_width": null,
            "object_fit": null,
            "object_position": null,
            "order": null,
            "overflow": null,
            "overflow_x": null,
            "overflow_y": null,
            "padding": null,
            "right": null,
            "top": null,
            "visibility": null,
            "width": null
          }
        },
        "9a133aa8117146bda3b9a51152717f2c": {
          "model_module": "@jupyter-widgets/base",
          "model_module_version": "1.2.0",
          "model_name": "LayoutModel",
          "state": {
            "_model_module": "@jupyter-widgets/base",
            "_model_module_version": "1.2.0",
            "_model_name": "LayoutModel",
            "_view_count": null,
            "_view_module": "@jupyter-widgets/base",
            "_view_module_version": "1.2.0",
            "_view_name": "LayoutView",
            "align_content": null,
            "align_items": null,
            "align_self": null,
            "border": null,
            "bottom": null,
            "display": null,
            "flex": null,
            "flex_flow": null,
            "grid_area": null,
            "grid_auto_columns": null,
            "grid_auto_flow": null,
            "grid_auto_rows": null,
            "grid_column": null,
            "grid_gap": null,
            "grid_row": null,
            "grid_template_areas": null,
            "grid_template_columns": null,
            "grid_template_rows": null,
            "height": null,
            "justify_content": null,
            "justify_items": null,
            "left": null,
            "margin": null,
            "max_height": null,
            "max_width": null,
            "min_height": null,
            "min_width": null,
            "object_fit": null,
            "object_position": null,
            "order": null,
            "overflow": null,
            "overflow_x": null,
            "overflow_y": null,
            "padding": null,
            "right": null,
            "top": null,
            "visibility": null,
            "width": null
          }
        },
        "9c06e49960bf4840858ae5ef7269fd90": {
          "model_module": "@jupyter-widgets/base",
          "model_module_version": "1.2.0",
          "model_name": "LayoutModel",
          "state": {
            "_model_module": "@jupyter-widgets/base",
            "_model_module_version": "1.2.0",
            "_model_name": "LayoutModel",
            "_view_count": null,
            "_view_module": "@jupyter-widgets/base",
            "_view_module_version": "1.2.0",
            "_view_name": "LayoutView",
            "align_content": null,
            "align_items": null,
            "align_self": null,
            "border": null,
            "bottom": null,
            "display": null,
            "flex": null,
            "flex_flow": null,
            "grid_area": null,
            "grid_auto_columns": null,
            "grid_auto_flow": null,
            "grid_auto_rows": null,
            "grid_column": null,
            "grid_gap": null,
            "grid_row": null,
            "grid_template_areas": null,
            "grid_template_columns": null,
            "grid_template_rows": null,
            "height": null,
            "justify_content": null,
            "justify_items": null,
            "left": null,
            "margin": null,
            "max_height": null,
            "max_width": null,
            "min_height": null,
            "min_width": null,
            "object_fit": null,
            "object_position": null,
            "order": null,
            "overflow": null,
            "overflow_x": null,
            "overflow_y": null,
            "padding": null,
            "right": null,
            "top": null,
            "visibility": null,
            "width": null
          }
        },
        "9f5aff48e70f42f98a6c2098e8335e70": {
          "model_module": "@jupyter-widgets/controls",
          "model_module_version": "1.5.0",
          "model_name": "HTMLModel",
          "state": {
            "_dom_classes": [],
            "_model_module": "@jupyter-widgets/controls",
            "_model_module_version": "1.5.0",
            "_model_name": "HTMLModel",
            "_view_count": null,
            "_view_module": "@jupyter-widgets/controls",
            "_view_module_version": "1.5.0",
            "_view_name": "HTMLView",
            "description": "",
            "description_tooltip": null,
            "layout": "IPY_MODEL_f42dae05211f4853a0c63d0721f40b22",
            "placeholder": "​",
            "style": "IPY_MODEL_c95088448bd447f7a39477d77150fed1",
            "value": "Downloading pytorch_model.bin: 100%"
          }
        },
        "b6100ac6a3444a749a52e725d07e1c80": {
          "model_module": "@jupyter-widgets/controls",
          "model_module_version": "1.5.0",
          "model_name": "HTMLModel",
          "state": {
            "_dom_classes": [],
            "_model_module": "@jupyter-widgets/controls",
            "_model_module_version": "1.5.0",
            "_model_name": "HTMLModel",
            "_view_count": null,
            "_view_module": "@jupyter-widgets/controls",
            "_view_module_version": "1.5.0",
            "_view_name": "HTMLView",
            "description": "",
            "description_tooltip": null,
            "layout": "IPY_MODEL_4ae7cbd6d8d649c0a6584b45105ae4de",
            "placeholder": "​",
            "style": "IPY_MODEL_8531e03248a44556a8829d4744cfc702",
            "value": " 523M/523M [00:23&lt;00:00, 21.9MB/s]"
          }
        },
        "bc4f30247aa649c48460adc7d2ff0ea5": {
          "model_module": "@jupyter-widgets/base",
          "model_module_version": "1.2.0",
          "model_name": "LayoutModel",
          "state": {
            "_model_module": "@jupyter-widgets/base",
            "_model_module_version": "1.2.0",
            "_model_name": "LayoutModel",
            "_view_count": null,
            "_view_module": "@jupyter-widgets/base",
            "_view_module_version": "1.2.0",
            "_view_name": "LayoutView",
            "align_content": null,
            "align_items": null,
            "align_self": null,
            "border": null,
            "bottom": null,
            "display": null,
            "flex": null,
            "flex_flow": null,
            "grid_area": null,
            "grid_auto_columns": null,
            "grid_auto_flow": null,
            "grid_auto_rows": null,
            "grid_column": null,
            "grid_gap": null,
            "grid_row": null,
            "grid_template_areas": null,
            "grid_template_columns": null,
            "grid_template_rows": null,
            "height": null,
            "justify_content": null,
            "justify_items": null,
            "left": null,
            "margin": null,
            "max_height": null,
            "max_width": null,
            "min_height": null,
            "min_width": null,
            "object_fit": null,
            "object_position": null,
            "order": null,
            "overflow": null,
            "overflow_x": null,
            "overflow_y": null,
            "padding": null,
            "right": null,
            "top": null,
            "visibility": null,
            "width": null
          }
        },
        "c30d2ace6e284f759e32c9aee1100767": {
          "model_module": "@jupyter-widgets/controls",
          "model_module_version": "1.5.0",
          "model_name": "DescriptionStyleModel",
          "state": {
            "_model_module": "@jupyter-widgets/controls",
            "_model_module_version": "1.5.0",
            "_model_name": "DescriptionStyleModel",
            "_view_count": null,
            "_view_module": "@jupyter-widgets/base",
            "_view_module_version": "1.2.0",
            "_view_name": "StyleView",
            "description_width": ""
          }
        },
        "c95088448bd447f7a39477d77150fed1": {
          "model_module": "@jupyter-widgets/controls",
          "model_module_version": "1.5.0",
          "model_name": "DescriptionStyleModel",
          "state": {
            "_model_module": "@jupyter-widgets/controls",
            "_model_module_version": "1.5.0",
            "_model_name": "DescriptionStyleModel",
            "_view_count": null,
            "_view_module": "@jupyter-widgets/base",
            "_view_module_version": "1.2.0",
            "_view_name": "StyleView",
            "description_width": ""
          }
        },
        "cb28fbb486e148e5a82a3fb8f4cdd831": {
          "model_module": "@jupyter-widgets/controls",
          "model_module_version": "1.5.0",
          "model_name": "FloatProgressModel",
          "state": {
            "_dom_classes": [],
            "_model_module": "@jupyter-widgets/controls",
            "_model_module_version": "1.5.0",
            "_model_name": "FloatProgressModel",
            "_view_count": null,
            "_view_module": "@jupyter-widgets/controls",
            "_view_module_version": "1.5.0",
            "_view_name": "ProgressView",
            "bar_style": "success",
            "description": "",
            "description_tooltip": null,
            "layout": "IPY_MODEL_4c47c8ae6b4f4fe1a098c416df0f0cc8",
            "max": 456318,
            "min": 0,
            "orientation": "horizontal",
            "style": "IPY_MODEL_4617152767894b4a8fc79d6ae25fc740",
            "value": 456318
          }
        },
        "d13266becef14c45babb2c7c16125077": {
          "model_module": "@jupyter-widgets/controls",
          "model_module_version": "1.5.0",
          "model_name": "DescriptionStyleModel",
          "state": {
            "_model_module": "@jupyter-widgets/controls",
            "_model_module_version": "1.5.0",
            "_model_name": "DescriptionStyleModel",
            "_view_count": null,
            "_view_module": "@jupyter-widgets/base",
            "_view_module_version": "1.2.0",
            "_view_name": "StyleView",
            "description_width": ""
          }
        },
        "d13cf5fd29cc4e3cad8b22ce184b78a5": {
          "model_module": "@jupyter-widgets/base",
          "model_module_version": "1.2.0",
          "model_name": "LayoutModel",
          "state": {
            "_model_module": "@jupyter-widgets/base",
            "_model_module_version": "1.2.0",
            "_model_name": "LayoutModel",
            "_view_count": null,
            "_view_module": "@jupyter-widgets/base",
            "_view_module_version": "1.2.0",
            "_view_name": "LayoutView",
            "align_content": null,
            "align_items": null,
            "align_self": null,
            "border": null,
            "bottom": null,
            "display": null,
            "flex": null,
            "flex_flow": null,
            "grid_area": null,
            "grid_auto_columns": null,
            "grid_auto_flow": null,
            "grid_auto_rows": null,
            "grid_column": null,
            "grid_gap": null,
            "grid_row": null,
            "grid_template_areas": null,
            "grid_template_columns": null,
            "grid_template_rows": null,
            "height": null,
            "justify_content": null,
            "justify_items": null,
            "left": null,
            "margin": null,
            "max_height": null,
            "max_width": null,
            "min_height": null,
            "min_width": null,
            "object_fit": null,
            "object_position": null,
            "order": null,
            "overflow": null,
            "overflow_x": null,
            "overflow_y": null,
            "padding": null,
            "right": null,
            "top": null,
            "visibility": null,
            "width": null
          }
        },
        "d221aa6c01d54972ae8b2be45d8f7158": {
          "model_module": "@jupyter-widgets/controls",
          "model_module_version": "1.5.0",
          "model_name": "HBoxModel",
          "state": {
            "_dom_classes": [],
            "_model_module": "@jupyter-widgets/controls",
            "_model_module_version": "1.5.0",
            "_model_name": "HBoxModel",
            "_view_count": null,
            "_view_module": "@jupyter-widgets/controls",
            "_view_module_version": "1.5.0",
            "_view_name": "HBoxView",
            "box_style": "",
            "children": [
              "IPY_MODEL_d43df5cc69b3480e960683d35ee81252",
              "IPY_MODEL_28cb2358e5b04d329b9d3ee90cb082d1",
              "IPY_MODEL_02358f9f44ab4693b8f21f19efbb50c9"
            ],
            "layout": "IPY_MODEL_d13cf5fd29cc4e3cad8b22ce184b78a5"
          }
        },
        "d2c05698b7694ee18223e9b509ddb0c3": {
          "model_module": "@jupyter-widgets/base",
          "model_module_version": "1.2.0",
          "model_name": "LayoutModel",
          "state": {
            "_model_module": "@jupyter-widgets/base",
            "_model_module_version": "1.2.0",
            "_model_name": "LayoutModel",
            "_view_count": null,
            "_view_module": "@jupyter-widgets/base",
            "_view_module_version": "1.2.0",
            "_view_name": "LayoutView",
            "align_content": null,
            "align_items": null,
            "align_self": null,
            "border": null,
            "bottom": null,
            "display": null,
            "flex": null,
            "flex_flow": null,
            "grid_area": null,
            "grid_auto_columns": null,
            "grid_auto_flow": null,
            "grid_auto_rows": null,
            "grid_column": null,
            "grid_gap": null,
            "grid_row": null,
            "grid_template_areas": null,
            "grid_template_columns": null,
            "grid_template_rows": null,
            "height": null,
            "justify_content": null,
            "justify_items": null,
            "left": null,
            "margin": null,
            "max_height": null,
            "max_width": null,
            "min_height": null,
            "min_width": null,
            "object_fit": null,
            "object_position": null,
            "order": null,
            "overflow": null,
            "overflow_x": null,
            "overflow_y": null,
            "padding": null,
            "right": null,
            "top": null,
            "visibility": null,
            "width": null
          }
        },
        "d43df5cc69b3480e960683d35ee81252": {
          "model_module": "@jupyter-widgets/controls",
          "model_module_version": "1.5.0",
          "model_name": "HTMLModel",
          "state": {
            "_dom_classes": [],
            "_model_module": "@jupyter-widgets/controls",
            "_model_module_version": "1.5.0",
            "_model_name": "HTMLModel",
            "_view_count": null,
            "_view_module": "@jupyter-widgets/controls",
            "_view_module_version": "1.5.0",
            "_view_name": "HTMLView",
            "description": "",
            "description_tooltip": null,
            "layout": "IPY_MODEL_d2c05698b7694ee18223e9b509ddb0c3",
            "placeholder": "​",
            "style": "IPY_MODEL_d13266becef14c45babb2c7c16125077",
            "value": "Downloading vocab.json: 100%"
          }
        },
        "da274e530d61477a8f8b37dc8d2228a1": {
          "model_module": "@jupyter-widgets/controls",
          "model_module_version": "1.5.0",
          "model_name": "HBoxModel",
          "state": {
            "_dom_classes": [],
            "_model_module": "@jupyter-widgets/controls",
            "_model_module_version": "1.5.0",
            "_model_name": "HBoxModel",
            "_view_count": null,
            "_view_module": "@jupyter-widgets/controls",
            "_view_module_version": "1.5.0",
            "_view_name": "HBoxView",
            "box_style": "",
            "children": [
              "IPY_MODEL_9f5aff48e70f42f98a6c2098e8335e70",
              "IPY_MODEL_6972083b9a284cc3832364d08737bac6",
              "IPY_MODEL_b6100ac6a3444a749a52e725d07e1c80"
            ],
            "layout": "IPY_MODEL_9c06e49960bf4840858ae5ef7269fd90"
          }
        },
        "e534e20968fb47368ac22a390d80175e": {
          "model_module": "@jupyter-widgets/base",
          "model_module_version": "1.2.0",
          "model_name": "LayoutModel",
          "state": {
            "_model_module": "@jupyter-widgets/base",
            "_model_module_version": "1.2.0",
            "_model_name": "LayoutModel",
            "_view_count": null,
            "_view_module": "@jupyter-widgets/base",
            "_view_module_version": "1.2.0",
            "_view_name": "LayoutView",
            "align_content": null,
            "align_items": null,
            "align_self": null,
            "border": null,
            "bottom": null,
            "display": null,
            "flex": null,
            "flex_flow": null,
            "grid_area": null,
            "grid_auto_columns": null,
            "grid_auto_flow": null,
            "grid_auto_rows": null,
            "grid_column": null,
            "grid_gap": null,
            "grid_row": null,
            "grid_template_areas": null,
            "grid_template_columns": null,
            "grid_template_rows": null,
            "height": null,
            "justify_content": null,
            "justify_items": null,
            "left": null,
            "margin": null,
            "max_height": null,
            "max_width": null,
            "min_height": null,
            "min_width": null,
            "object_fit": null,
            "object_position": null,
            "order": null,
            "overflow": null,
            "overflow_x": null,
            "overflow_y": null,
            "padding": null,
            "right": null,
            "top": null,
            "visibility": null,
            "width": null
          }
        },
        "e61070aa44da42a4ad3f3126d03122f6": {
          "model_module": "@jupyter-widgets/controls",
          "model_module_version": "1.5.0",
          "model_name": "HTMLModel",
          "state": {
            "_dom_classes": [],
            "_model_module": "@jupyter-widgets/controls",
            "_model_module_version": "1.5.0",
            "_model_name": "HTMLModel",
            "_view_count": null,
            "_view_module": "@jupyter-widgets/controls",
            "_view_module_version": "1.5.0",
            "_view_name": "HTMLView",
            "description": "",
            "description_tooltip": null,
            "layout": "IPY_MODEL_e66d5cde714b425d9f8b962d5e4f86e5",
            "placeholder": "​",
            "style": "IPY_MODEL_6086b8c20fd54c068f2b58dcf11d4d2e",
            "value": " 665/665 [00:00&lt;00:00, 19.4kB/s]"
          }
        },
        "e66d5cde714b425d9f8b962d5e4f86e5": {
          "model_module": "@jupyter-widgets/base",
          "model_module_version": "1.2.0",
          "model_name": "LayoutModel",
          "state": {
            "_model_module": "@jupyter-widgets/base",
            "_model_module_version": "1.2.0",
            "_model_name": "LayoutModel",
            "_view_count": null,
            "_view_module": "@jupyter-widgets/base",
            "_view_module_version": "1.2.0",
            "_view_name": "LayoutView",
            "align_content": null,
            "align_items": null,
            "align_self": null,
            "border": null,
            "bottom": null,
            "display": null,
            "flex": null,
            "flex_flow": null,
            "grid_area": null,
            "grid_auto_columns": null,
            "grid_auto_flow": null,
            "grid_auto_rows": null,
            "grid_column": null,
            "grid_gap": null,
            "grid_row": null,
            "grid_template_areas": null,
            "grid_template_columns": null,
            "grid_template_rows": null,
            "height": null,
            "justify_content": null,
            "justify_items": null,
            "left": null,
            "margin": null,
            "max_height": null,
            "max_width": null,
            "min_height": null,
            "min_width": null,
            "object_fit": null,
            "object_position": null,
            "order": null,
            "overflow": null,
            "overflow_x": null,
            "overflow_y": null,
            "padding": null,
            "right": null,
            "top": null,
            "visibility": null,
            "width": null
          }
        },
        "eea1ae94ddc441dc97c4f178865fd3ea": {
          "model_module": "@jupyter-widgets/controls",
          "model_module_version": "1.5.0",
          "model_name": "ProgressStyleModel",
          "state": {
            "_model_module": "@jupyter-widgets/controls",
            "_model_module_version": "1.5.0",
            "_model_name": "ProgressStyleModel",
            "_view_count": null,
            "_view_module": "@jupyter-widgets/base",
            "_view_module_version": "1.2.0",
            "_view_name": "StyleView",
            "bar_color": null,
            "description_width": ""
          }
        },
        "f268454bda8c46c1a0352f7226526af5": {
          "model_module": "@jupyter-widgets/controls",
          "model_module_version": "1.5.0",
          "model_name": "ProgressStyleModel",
          "state": {
            "_model_module": "@jupyter-widgets/controls",
            "_model_module_version": "1.5.0",
            "_model_name": "ProgressStyleModel",
            "_view_count": null,
            "_view_module": "@jupyter-widgets/base",
            "_view_module_version": "1.2.0",
            "_view_name": "StyleView",
            "bar_color": null,
            "description_width": ""
          }
        },
        "f42dae05211f4853a0c63d0721f40b22": {
          "model_module": "@jupyter-widgets/base",
          "model_module_version": "1.2.0",
          "model_name": "LayoutModel",
          "state": {
            "_model_module": "@jupyter-widgets/base",
            "_model_module_version": "1.2.0",
            "_model_name": "LayoutModel",
            "_view_count": null,
            "_view_module": "@jupyter-widgets/base",
            "_view_module_version": "1.2.0",
            "_view_name": "LayoutView",
            "align_content": null,
            "align_items": null,
            "align_self": null,
            "border": null,
            "bottom": null,
            "display": null,
            "flex": null,
            "flex_flow": null,
            "grid_area": null,
            "grid_auto_columns": null,
            "grid_auto_flow": null,
            "grid_auto_rows": null,
            "grid_column": null,
            "grid_gap": null,
            "grid_row": null,
            "grid_template_areas": null,
            "grid_template_columns": null,
            "grid_template_rows": null,
            "height": null,
            "justify_content": null,
            "justify_items": null,
            "left": null,
            "margin": null,
            "max_height": null,
            "max_width": null,
            "min_height": null,
            "min_width": null,
            "object_fit": null,
            "object_position": null,
            "order": null,
            "overflow": null,
            "overflow_x": null,
            "overflow_y": null,
            "padding": null,
            "right": null,
            "top": null,
            "visibility": null,
            "width": null
          }
        },
        "fa2a6df3d81d45b3a6ce1e7fd3346b25": {
          "model_module": "@jupyter-widgets/base",
          "model_module_version": "1.2.0",
          "model_name": "LayoutModel",
          "state": {
            "_model_module": "@jupyter-widgets/base",
            "_model_module_version": "1.2.0",
            "_model_name": "LayoutModel",
            "_view_count": null,
            "_view_module": "@jupyter-widgets/base",
            "_view_module_version": "1.2.0",
            "_view_name": "LayoutView",
            "align_content": null,
            "align_items": null,
            "align_self": null,
            "border": null,
            "bottom": null,
            "display": null,
            "flex": null,
            "flex_flow": null,
            "grid_area": null,
            "grid_auto_columns": null,
            "grid_auto_flow": null,
            "grid_auto_rows": null,
            "grid_column": null,
            "grid_gap": null,
            "grid_row": null,
            "grid_template_areas": null,
            "grid_template_columns": null,
            "grid_template_rows": null,
            "height": null,
            "justify_content": null,
            "justify_items": null,
            "left": null,
            "margin": null,
            "max_height": null,
            "max_width": null,
            "min_height": null,
            "min_width": null,
            "object_fit": null,
            "object_position": null,
            "order": null,
            "overflow": null,
            "overflow_x": null,
            "overflow_y": null,
            "padding": null,
            "right": null,
            "top": null,
            "visibility": null,
            "width": null
          }
        },
        "fd7ca41cdfaf4e47b24d6c9275af8106": {
          "model_module": "@jupyter-widgets/base",
          "model_module_version": "1.2.0",
          "model_name": "LayoutModel",
          "state": {
            "_model_module": "@jupyter-widgets/base",
            "_model_module_version": "1.2.0",
            "_model_name": "LayoutModel",
            "_view_count": null,
            "_view_module": "@jupyter-widgets/base",
            "_view_module_version": "1.2.0",
            "_view_name": "LayoutView",
            "align_content": null,
            "align_items": null,
            "align_self": null,
            "border": null,
            "bottom": null,
            "display": null,
            "flex": null,
            "flex_flow": null,
            "grid_area": null,
            "grid_auto_columns": null,
            "grid_auto_flow": null,
            "grid_auto_rows": null,
            "grid_column": null,
            "grid_gap": null,
            "grid_row": null,
            "grid_template_areas": null,
            "grid_template_columns": null,
            "grid_template_rows": null,
            "height": null,
            "justify_content": null,
            "justify_items": null,
            "left": null,
            "margin": null,
            "max_height": null,
            "max_width": null,
            "min_height": null,
            "min_width": null,
            "object_fit": null,
            "object_position": null,
            "order": null,
            "overflow": null,
            "overflow_x": null,
            "overflow_y": null,
            "padding": null,
            "right": null,
            "top": null,
            "visibility": null,
            "width": null
          }
        },
        "ff3189b6b613406a901705321b879c47": {
          "model_module": "@jupyter-widgets/base",
          "model_module_version": "1.2.0",
          "model_name": "LayoutModel",
          "state": {
            "_model_module": "@jupyter-widgets/base",
            "_model_module_version": "1.2.0",
            "_model_name": "LayoutModel",
            "_view_count": null,
            "_view_module": "@jupyter-widgets/base",
            "_view_module_version": "1.2.0",
            "_view_name": "LayoutView",
            "align_content": null,
            "align_items": null,
            "align_self": null,
            "border": null,
            "bottom": null,
            "display": null,
            "flex": null,
            "flex_flow": null,
            "grid_area": null,
            "grid_auto_columns": null,
            "grid_auto_flow": null,
            "grid_auto_rows": null,
            "grid_column": null,
            "grid_gap": null,
            "grid_row": null,
            "grid_template_areas": null,
            "grid_template_columns": null,
            "grid_template_rows": null,
            "height": null,
            "justify_content": null,
            "justify_items": null,
            "left": null,
            "margin": null,
            "max_height": null,
            "max_width": null,
            "min_height": null,
            "min_width": null,
            "object_fit": null,
            "object_position": null,
            "order": null,
            "overflow": null,
            "overflow_x": null,
            "overflow_y": null,
            "padding": null,
            "right": null,
            "top": null,
            "visibility": null,
            "width": null
          }
        }
      }
    }
  },
  "nbformat": 4,
  "nbformat_minor": 0
}
